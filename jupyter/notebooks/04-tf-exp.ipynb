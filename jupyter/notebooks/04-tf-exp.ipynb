{
 "cells": [
  {
   "cell_type": "code",
   "execution_count": 2,
   "id": "25bfa1f7",
   "metadata": {},
   "outputs": [],
   "source": [
    "import tensorflow as tf\n",
    "import numpy as np"
   ]
  },
  {
   "cell_type": "code",
   "execution_count": 41,
   "id": "5ae3648a",
   "metadata": {},
   "outputs": [],
   "source": [
    "sent = 'eu rejects german call to boycott british lamb'\n",
    "ents = {0: '[PAD]', 1: 'O', 2: 'B-PER', 3: 'I-PER', 4: 'B-ORG', 5: 'I-ORG', 6: 'B-LOC', 7: 'I-LOC', 8: 'B-MISC', 9: 'I-MISC'}"
   ]
  },
  {
   "cell_type": "code",
   "execution_count": 35,
   "id": "8d5fd207",
   "metadata": {},
   "outputs": [],
   "source": [
    "m = len(sent.split(' ')) # num of tokens\n",
    "n = len(ents) # num of tags\n",
    "N_examples = 1"
   ]
  },
  {
   "cell_type": "code",
   "execution_count": 36,
   "id": "04648d7f",
   "metadata": {},
   "outputs": [
    {
     "data": {
      "text/plain": [
       "<tf.Tensor: shape=(1, 8), dtype=int32, numpy=array([[  988, 10950,   204,   628,     6,  3938,   215,  5773]])>"
      ]
     },
     "execution_count": 36,
     "metadata": {},
     "output_type": "execute_result"
    }
   ],
   "source": [
    "sample_input = [988, 10950, 204, 628, 6, 3938, 215, 5773]\n",
    "reshaped = tf.reshape(sample_input, shape=[1,-1])\n",
    "reshaped"
   ]
  },
  {
   "cell_type": "markdown",
   "id": "6ff555f6",
   "metadata": {},
   "source": [
    "The output is a N_examplesxMxN matrix where M=the number of input tokens and N=the number of NER tags. The value (i,j) in each row indicates the probability of token - i having a tag - j."
   ]
  },
  {
   "cell_type": "code",
   "execution_count": 37,
   "id": "c1a753ea",
   "metadata": {},
   "outputs": [
    {
     "data": {
      "text/plain": [
       "array([[[0.34468628, 0.80317937, 0.66579117, 0.05305431, 0.49835746,\n",
       "         0.88995676, 0.6064641 , 0.26306298, 0.35156791, 0.5430262 ],\n",
       "        [0.32984953, 0.36910559, 0.87148974, 0.34292291, 0.64425646,\n",
       "         0.19633353, 0.719106  , 0.71501065, 0.25435521, 0.20757459],\n",
       "        [0.67695238, 0.76535915, 0.18131128, 0.3759815 , 0.99965085,\n",
       "         0.34393323, 0.07102733, 0.68422573, 0.95815428, 0.06405466],\n",
       "        [0.87347101, 0.80232081, 0.89558135, 0.15227948, 0.61474763,\n",
       "         0.89918769, 0.89831634, 0.82514498, 0.8344074 , 0.62373339],\n",
       "        [0.37234642, 0.10387022, 0.50574181, 0.71714311, 0.31852089,\n",
       "         0.36063196, 0.93720003, 0.87945287, 0.73973907, 0.60217274],\n",
       "        [0.57948672, 0.51942269, 0.6449795 , 0.61425331, 0.84798737,\n",
       "         0.42627617, 0.53821621, 0.39777226, 0.66577475, 0.28971717],\n",
       "        [0.2897944 , 0.605612  , 0.78573487, 0.06983918, 0.98028496,\n",
       "         0.1373459 , 0.72007207, 0.46240775, 0.08858269, 0.49376208],\n",
       "        [0.42109362, 0.72389497, 0.11902359, 0.63321918, 0.13800761,\n",
       "         0.03110632, 0.56966346, 0.18888082, 0.90657517, 0.78575365]]])"
      ]
     },
     "execution_count": 37,
     "metadata": {},
     "output_type": "execute_result"
    }
   ],
   "source": [
    "output = np.random.rand(1,m,n)\n",
    "output"
   ]
  },
  {
   "cell_type": "markdown",
   "id": "5d37d2e0",
   "metadata": {},
   "source": [
    "- np.argmax returns the index of the maximum value\n",
    "\n",
    "- axis = -1 or 1 -> return max in each row\n",
    "- axis = None -> return max in flattened array\n",
    "- axis = 0 -> return max in each column"
   ]
  },
  {
   "cell_type": "code",
   "execution_count": 49,
   "id": "052998eb",
   "metadata": {},
   "outputs": [
    {
     "data": {
      "text/plain": [
       "array([5, 2, 4, 5, 6, 4, 4, 8], dtype=int64)"
      ]
     },
     "execution_count": 49,
     "metadata": {},
     "output_type": "execute_result"
    }
   ],
   "source": [
    "prediction = np.argmax(output, axis=-1)[0]\n",
    "prediction"
   ]
  },
  {
   "cell_type": "code",
   "execution_count": 50,
   "id": "a5236b15",
   "metadata": {},
   "outputs": [
    {
     "data": {
      "text/plain": [
       "5"
      ]
     },
     "execution_count": 50,
     "metadata": {},
     "output_type": "execute_result"
    }
   ],
   "source": [
    "prediction[0]"
   ]
  },
  {
   "cell_type": "markdown",
   "id": "97d86629",
   "metadata": {},
   "source": [
    "map index of tag to tag name"
   ]
  },
  {
   "cell_type": "code",
   "execution_count": 51,
   "id": "d6d79a91",
   "metadata": {
    "scrolled": true
   },
   "outputs": [
    {
     "data": {
      "text/plain": [
       "['I-ORG', 'B-PER', 'B-ORG', 'I-ORG', 'B-LOC', 'B-ORG', 'B-ORG', 'B-MISC']"
      ]
     },
     "execution_count": 51,
     "metadata": {},
     "output_type": "execute_result"
    }
   ],
   "source": [
    "prediction = [ents[i] for i in prediction]\n",
    "prediction"
   ]
  },
  {
   "cell_type": "code",
   "execution_count": 52,
   "id": "b9860f1e",
   "metadata": {},
   "outputs": [
    {
     "data": {
      "text/plain": [
       "'eu rejects german call to boycott british lamb'"
      ]
     },
     "execution_count": 52,
     "metadata": {},
     "output_type": "execute_result"
    }
   ],
   "source": [
    "sent"
   ]
  },
  {
   "cell_type": "markdown",
   "id": "f945d5f2",
   "metadata": {},
   "source": [
    "output is gibberish since we used a random matrix to demonstrate"
   ]
  },
  {
   "cell_type": "code",
   "execution_count": null,
   "id": "0ccc6827",
   "metadata": {},
   "outputs": [],
   "source": []
  }
 ],
 "metadata": {
  "kernelspec": {
   "display_name": "Python 3 (ipykernel)",
   "language": "python",
   "name": "python3"
  },
  "language_info": {
   "codemirror_mode": {
    "name": "ipython",
    "version": 3
   },
   "file_extension": ".py",
   "mimetype": "text/x-python",
   "name": "python",
   "nbconvert_exporter": "python",
   "pygments_lexer": "ipython3",
   "version": "3.10.3"
  }
 },
 "nbformat": 4,
 "nbformat_minor": 5
}
